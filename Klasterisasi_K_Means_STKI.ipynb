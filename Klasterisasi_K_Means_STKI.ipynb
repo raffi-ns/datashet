{
  "nbformat": 4,
  "nbformat_minor": 0,
  "metadata": {
    "colab": {
      "provenance": [],
      "authorship_tag": "ABX9TyN3N6UayUBkUGvdYOjW1luN",
      "include_colab_link": true
    },
    "kernelspec": {
      "name": "python3",
      "display_name": "Python 3"
    },
    "language_info": {
      "name": "python"
    }
  },
  "cells": [
    {
      "cell_type": "markdown",
      "metadata": {
        "id": "view-in-github",
        "colab_type": "text"
      },
      "source": [
        "<a href=\"https://colab.research.google.com/github/raffi-ns/datashet/blob/main/Klasterisasi_K_Means_STKI.ipynb\" target=\"_parent\"><img src=\"https://colab.research.google.com/assets/colab-badge.svg\" alt=\"Open In Colab\"/></a>"
      ]
    },
    {
      "cell_type": "code",
      "execution_count": 1,
      "metadata": {
        "id": "scYW5b4jUCxz",
        "colab": {
          "base_uri": "https://localhost:8080/"
        },
        "outputId": "40d3f72e-9824-4c18-aff0-04d880fcd6fd"
      },
      "outputs": [
        {
          "output_type": "stream",
          "name": "stdout",
          "text": [
            "Requirement already satisfied: nltk in /usr/local/lib/python3.10/dist-packages (3.8.1)\n",
            "Requirement already satisfied: click in /usr/local/lib/python3.10/dist-packages (from nltk) (8.1.7)\n",
            "Requirement already satisfied: joblib in /usr/local/lib/python3.10/dist-packages (from nltk) (1.3.2)\n",
            "Requirement already satisfied: regex>=2021.8.3 in /usr/local/lib/python3.10/dist-packages (from nltk) (2023.6.3)\n",
            "Requirement already satisfied: tqdm in /usr/local/lib/python3.10/dist-packages (from nltk) (4.66.1)\n"
          ]
        },
        {
          "output_type": "stream",
          "name": "stderr",
          "text": [
            "[nltk_data] Downloading package punkt to /root/nltk_data...\n",
            "[nltk_data]   Unzipping tokenizers/punkt.zip.\n"
          ]
        },
        {
          "output_type": "stream",
          "name": "stdout",
          "text": [
            "Dokumen dalam Cluster 1:\n",
            "PSIS berburu juara Liga Indonesia\n",
            "Manchester United Juara Liga Inggris\n",
            "Timnas Indonesia juara Liga AFC\n",
            "\n",
            "Dokumen dalam Cluster 2:\n",
            "Hasil putusan Sidang Elit Politik\n",
            "Partai politik berebut suara\n"
          ]
        },
        {
          "output_type": "stream",
          "name": "stderr",
          "text": [
            "/usr/local/lib/python3.10/dist-packages/sklearn/cluster/_kmeans.py:870: FutureWarning: The default value of `n_init` will change from 10 to 'auto' in 1.4. Set the value of `n_init` explicitly to suppress the warning\n",
            "  warnings.warn(\n"
          ]
        }
      ],
      "source": [
        "!pip install nltk\n",
        "\n",
        "from sklearn.feature_extraction.text import TfidfVectorizer\n",
        "from sklearn.cluster import KMeans\n",
        "from sklearn.metrics import pairwise_distances_argmin_min\n",
        "from sklearn.preprocessing import normalize\n",
        "from nltk.tokenize import word_tokenize\n",
        "from nltk.stem import PorterStemmer\n",
        "import nltk\n",
        "import numpy as np\n",
        "\n",
        "nltk.download('punkt')\n",
        "\n",
        "# Pra-pemrosesan (Preprocessing)\n",
        "def preprocess_document(document):\n",
        "    tokens = word_tokenize(document)\n",
        "    stemmer = PorterStemmer()\n",
        "    stemmed_tokens = [stemmer.stem(token) for token in tokens]\n",
        "    preprocessed_document = ' '.join(stemmed_tokens)\n",
        "    return preprocessed_document\n",
        "\n",
        "# Dokumen\n",
        "documents = [\n",
        "    \"PSIS berburu juara Liga Indonesia\",\n",
        "    \"Hasil putusan Sidang Elit Politik\",\n",
        "    \"Partai politik berebut suara\",\n",
        "    \"Manchester United Juara Liga Inggris\",\n",
        "    \"Timnas Indonesia juara Liga AFC\",\n",
        "]\n",
        "\n",
        "# Pra-pemrosesan dokumen\n",
        "preprocessed_documents = [preprocess_document(doc) for doc in documents]\n",
        "\n",
        "# Term Weighting menggunakan TF-IDF\n",
        "vectorizer = TfidfVectorizer()\n",
        "tfidf_matrix = vectorizer.fit_transform(preprocessed_documents)\n",
        "\n",
        "# K-means Clustering\n",
        "num_clusters = 2\n",
        "kmeans = KMeans(n_clusters=num_clusters, random_state=42)\n",
        "kmeans.fit(tfidf_matrix)\n",
        "\n",
        "# Menentukan Centroid D1 dan D3\n",
        "normalized_centroids = normalize(kmeans.cluster_centers_, axis=1, norm='l2')\n",
        "centroid_d1_idx, _ = pairwise_distances_argmin_min(normalized_centroids, tfidf_matrix)\n",
        "\n",
        "# Dokumen dalam Cluster 1\n",
        "cluster1_documents = [documents[i] for i in range(len(documents)) if kmeans.labels_[i] == 0]\n",
        "\n",
        "# Dokumen dalam Cluster 2\n",
        "cluster2_documents = [documents[i] for i in range(len(documents)) if kmeans.labels_[i] == 1]\n",
        "\n",
        "# Menampilkan hasil\n",
        "print(\"Dokumen dalam Cluster 1:\")\n",
        "for doc in cluster1_documents:\n",
        "    print(doc)\n",
        "\n",
        "print(\"\\nDokumen dalam Cluster 2:\")\n",
        "for doc in cluster2_documents:\n",
        "    print(doc)"
      ]
    }
  ]
}