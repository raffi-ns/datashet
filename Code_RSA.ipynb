{
  "nbformat": 4,
  "nbformat_minor": 0,
  "metadata": {
    "colab": {
      "provenance": [],
      "authorship_tag": "ABX9TyPSd38Y0gFAa7ewUSgLpUrM",
      "include_colab_link": true
    },
    "kernelspec": {
      "name": "python3",
      "display_name": "Python 3"
    },
    "language_info": {
      "name": "python"
    }
  },
  "cells": [
    {
      "cell_type": "markdown",
      "metadata": {
        "id": "view-in-github",
        "colab_type": "text"
      },
      "source": [
        "<a href=\"https://colab.research.google.com/github/raffi-ns/datashet/blob/main/Code_RSA.ipynb\" target=\"_parent\"><img src=\"https://colab.research.google.com/assets/colab-badge.svg\" alt=\"Open In Colab\"/></a>"
      ]
    },
    {
      "cell_type": "code",
      "execution_count": 1,
      "metadata": {
        "id": "bCrxA6_gkteg"
      },
      "outputs": [],
      "source": [
        "# Import library\n",
        "import math"
      ]
    },
    {
      "cell_type": "code",
      "source": [
        "# Fungsi untuk menghitung gcd\n",
        "def gcd(a, b):\n",
        "    while b != 0:\n",
        "        a, b = b, a % b\n",
        "    return a"
      ],
      "metadata": {
        "id": "YuQ5HSu7wQc3"
      },
      "execution_count": 2,
      "outputs": []
    },
    {
      "cell_type": "code",
      "source": [
        "# Fungsi untuk menghitung nilai e\n",
        "def calculate_e(p, q):\n",
        "    phi = (p - 1) * (q - 1)\n",
        "    e = 7\n",
        "    while e < phi:\n",
        "        if gcd(e, phi) == 1:\n",
        "            break\n",
        "        e += 1\n",
        "    return e"
      ],
      "metadata": {
        "id": "k2Z0boj0wTal"
      },
      "execution_count": 3,
      "outputs": []
    },
    {
      "cell_type": "code",
      "source": [
        "# Fungsi untuk menghitung nilai d\n",
        "def calculate_d(e, p, q):\n",
        "    phi = (p - 1) * (q - 1)\n",
        "    d = 2\n",
        "    while d < phi:\n",
        "        if (d * e) % phi == 1:\n",
        "            break\n",
        "        d += 1\n",
        "    return d"
      ],
      "metadata": {
        "id": "Ihvj793hwVme"
      },
      "execution_count": 4,
      "outputs": []
    },
    {
      "cell_type": "code",
      "source": [
        "# Fungsi untuk enkripsi RSA\n",
        "def encrypt_rsa(plaintext, e, n):\n",
        "    ciphertext = [pow(ord(char), e, n) for char in plaintext]\n",
        "    return ciphertext"
      ],
      "metadata": {
        "id": "cMn7735RwYx5"
      },
      "execution_count": 5,
      "outputs": []
    },
    {
      "cell_type": "code",
      "source": [
        "# Fungsi untuk dekripsi RSA\n",
        "def decrypt_rsa(ciphertext, d, n):\n",
        "    plaintext = [chr(pow(char, d, n)) for char in ciphertext]\n",
        "    return ''.join(plaintext)"
      ],
      "metadata": {
        "id": "2ONAiRRMwcmt"
      },
      "execution_count": 6,
      "outputs": []
    },
    {
      "cell_type": "code",
      "source": [
        "# Main program\n",
        "if __name__ == '__main__':\n",
        "    plaintext = \"raffinasru13072023\"\n",
        "    p = 9133\n",
        "    q = 3217\n",
        "\n",
        "    # Menghitung nilai n dan phi\n",
        "    n = p * q\n",
        "    phi = (p - 1) * (q - 1)\n",
        "\n",
        "    # Menghitung nilai e dan d\n",
        "    e = calculate_e(p, q)\n",
        "    d = calculate_d(e, p, q)\n",
        "\n",
        "    # Enkripsi pesan\n",
        "    ciphertext = encrypt_rsa(plaintext, e, n)\n",
        "    pt = d,n\n",
        "    print(\"private text:\", pt)\n",
        "    print(\"Ciphertext:\", ciphertext)\n",
        "\n",
        "    # Dekripsi pesan\n",
        "    decrypted_plaintext = decrypt_rsa(ciphertext, d, n)\n",
        "    print(\"Decrypted plaintext:\", decrypted_plaintext)"
      ],
      "metadata": {
        "colab": {
          "base_uri": "https://localhost:8080/"
        },
        "id": "860JPNitwe3r",
        "outputId": "929772ab-f850-49af-8edc-fac9b75e9771"
      },
      "execution_count": 7,
      "outputs": [
        {
          "output_type": "stream",
          "name": "stdout",
          "text": [
            "private text: (16782007, 29380861)\n",
            "Ciphertext: [16722722, 5921422, 6745749, 6745749, 16047672, 5665373, 5921422, 12514495, 16722722, 9249857, 24658386, 1659467, 9358631, 7159938, 12906010, 9358631, 12906010, 1659467]\n",
            "Decrypted plaintext: raffinasru13072023\n"
          ]
        }
      ]
    }
  ]
}